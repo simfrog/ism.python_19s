{
 "cells": [
  {
   "cell_type": "markdown",
   "metadata": {},
   "source": [
    "<br/>\n",
    "<p>\n",
    "1. <br/>\n",
    "타입을 읽고 해당 데이터 타입에 따라 한글로 출력하는 함수를 만든다.<br/>\n",
    "(세 가지 타입만 구분한다. 정수, 부동소수점, 문자열)<br/>\n",
    "아래는 예시답안입니다.<br/>\n",
    "<p>"
   ]
  },
  {
   "cell_type": "code",
   "execution_count": 26,
   "metadata": {},
   "outputs": [
    {
     "name": "stdout",
     "output_type": "stream",
     "text": [
      "부동소수점입니다.\n"
     ]
    }
   ],
   "source": [
    "def q1(num):\n",
    "    n=type(num)\n",
    "    if n == int:\n",
    "        print(\"정수입니다.\")\n",
    "    elif n == float:\n",
    "        print(\"부동소수점입니다.\")\n",
    "    elif n == str:\n",
    "        print(\"문자열입니다.\")\n",
    "\n",
    "q1(0.8)"
   ]
  },
  {
   "cell_type": "code",
   "execution_count": 8,
   "metadata": {},
   "outputs": [],
   "source": [
    "def q1(arg) :\n",
    "    \n",
    "    return\n",
    "q1(0.5)"
   ]
  },
  {
   "cell_type": "markdown",
   "metadata": {},
   "source": [
    "<br/>\n",
    "<p>\n",
    "2. <br/>\n",
    "다음 함수를 만드시오.<br/>\n",
    "for 반복문을 이용하여 0부터 100까지 정수로 이루어진 리스트를 만든다.<br/>\n",
    "반복문을 이용하여 리스트 내 모든 정수를 제곱한다.<br/>\n",
    "해당 리스트를 리턴(반환)한다. 그리고 반환된 결과를 출력한다.<br/>\n",
    "아래는 예시답안입니다.<br/>\n",
    "</p>"
   ]
  },
  {
   "cell_type": "code",
   "execution_count": 25,
   "metadata": {},
   "outputs": [
    {
     "name": "stdout",
     "output_type": "stream",
     "text": [
      "[0, 1, 4, 9, 16, 25, 36, 49, 64, 81, 100, 121, 144, 169, 196, 225, 256, 289, 324, 361, 400, 441, 484, 529, 576, 625, 676, 729, 784, 841, 900, 961, 1024, 1089, 1156, 1225, 1296, 1369, 1444, 1521, 1600, 1681, 1764, 1849, 1936, 2025, 2116, 2209, 2304, 2401, 2500, 2601, 2704, 2809, 2916, 3025, 3136, 3249, 3364, 3481, 3600, 3721, 3844, 3969, 4096, 4225, 4356, 4489, 4624, 4761, 4900, 5041, 5184, 5329, 5476, 5625, 5776, 5929, 6084, 6241, 6400, 6561, 6724, 6889, 7056, 7225, 7396, 7569, 7744, 7921, 8100, 8281, 8464, 8649, 8836, 9025, 9216, 9409, 9604, 9801, 10000]\n"
     ]
    }
   ],
   "source": [
    "def q2():\n",
    "    l=[]\n",
    "    a=1\n",
    "    for i in range(101):\n",
    "        a=i**2\n",
    "        l.append(a)\n",
    "    return l\n",
    "\n",
    "num_list=q2()\n",
    "print(num_list)"
   ]
  },
  {
   "cell_type": "code",
   "execution_count": 46,
   "metadata": {},
   "outputs": [
    {
     "name": "stdout",
     "output_type": "stream",
     "text": [
      "None\n"
     ]
    }
   ],
   "source": [
    "def q2() :\n",
    "    l = None\n",
    "    return l\n",
    "print(q2())"
   ]
  },
  {
   "cell_type": "markdown",
   "metadata": {},
   "source": [
    "<br/>\n",
    "<p>\n",
    "    3. <br/>\n",
    "    mySet, myList에 아래 값을 저장하라.<br/>\n",
    "    0, 1, 2, 3, 4, 5, 4, 3, 2, 1, 0<br/>\n",
    "    각 배열의 크기를 출력하고 왜 각 배열의 크기가 다른 지 설명문을 출력하라<br/>\n",
    "    아래는 예시답안입니다. 배열 길이를 출력하는 print 함수 안에 '숫자'를 써서는 안됩니다.<br/>\n",
    "</p>"
   ]
  },
  {
   "cell_type": "code",
   "execution_count": 29,
   "metadata": {},
   "outputs": [
    {
     "name": "stdout",
     "output_type": "stream",
     "text": [
      "mySet 배열 길이 : 6\n",
      "myList 배열 길이 :  11\n",
      "왜냐하면 set 배열은 집합 모델이므로 배열 내 값들의 중복을 허용하지 않는다.\n",
      "왜냐하면 List 배열은 수열 모델이므로 모든 원소들을 저장할 수 있다.\n"
     ]
    }
   ],
   "source": [
    "mySet = {0,1,2,3,4,5,4,3,2,1,0}\n",
    "myList = [0,1,2,3,4,5,4,3,2,1,0]\n",
    "\n",
    "sd=len(mySet)\n",
    "ld=len(myList)\n",
    "\n",
    "print(\"mySet 배열 길이 :\",sd)\n",
    "print(\"myList 배열 길이 : \",ld)\n",
    "print(\"왜냐하면 set 배열은 집합 모델이므로 배열 내 값들의 중복을 허용하지 않는다.\")\n",
    "print(\"왜냐하면 List 배열은 수열 모델이므로 모든 원소들을 저장할 수 있다.\")"
   ]
  },
  {
   "cell_type": "code",
   "execution_count": 2,
   "metadata": {},
   "outputs": [
    {
     "name": "stdout",
     "output_type": "stream",
     "text": [
      "mySet 배열 길이 : 6\n",
      "myList 배열 길이 : 11\n",
      "왜냐하면 set 배열은 집합 모델이므로 배열 내 값들의 중복을 허용하지 않는다.\n",
      "왜냐하면 List 배열은 수열 모델이므로 모든 원소들을 저장할 수 있다.\n"
     ]
    }
   ],
   "source": [
    "mySet = {0, 1, 2, 3, 4, 5, 4, 3, 2, 1, 0}\n",
    "myList = [0, 1, 2, 3, 4, 5, 4, 3, 2, 1, 0]\n",
    "print(\"mySet 배열 길이 :\", 0)\n",
    "print(\"myList 배열 길이 :\", 0)\n",
    "print(\"왜냐하면 set 배열은 .\")\n",
    "print(\"왜냐하면 List 배열은 .\")"
   ]
  },
  {
   "cell_type": "markdown",
   "metadata": {},
   "source": [
    "<br/>\n",
    "<p>\n",
    "    4. <br/>실용문제 <br/>\n",
    "    이산수학을 듣는 학생 미미는 수업 이후 경우의 수를 세는 방법에 대해 관심을 가졌다. <br/>\n",
    "    그래서 아래 보기에 대해 파이썬으로 프로그래밍을 하는 데, 중간에 막혔다고 한다. <br/>\n",
    "    미미를 도와 보기 문제를 풀도록 하자.<br/>\n",
    "    <보기><br/>\n",
    "    1. 오늘 학생 식당에는 n개의 식사 메뉴가 있다. 두 가지 메뉴를 구매한다고 했을 때, 식사의 가짓수를 구하여라. (당연히 똑같은 메뉴 두 개를 구매할 수도 있다.)<br/>\n",
    "    2. 후식으로 아메리카노, 카페라떼, 카페모카가 있다. n명이 후식으로 먹을 수 있는 경우의 수를 구하여라. (후식은 무한정 제공할 수 있다고 가정하며 당연히 똑같은 메뉴를 구매할 수 있다.)\n",
    "    <br/> 아래는 예시답안입니다. <br/>\n",
    "</p>"
   ]
  },
  {
   "cell_type": "code",
   "execution_count": 24,
   "metadata": {},
   "outputs": [
    {
     "name": "stdout",
     "output_type": "stream",
     "text": [
      "메뉴 수 : 10개, 구매할 수 있는 능력 : 2개, 경우의 수 : 55가지\n",
      "사람 수 : 10명, 구매할 수 있는 메뉴 : 3개, 경우의 수 : 59049가지\n"
     ]
    }
   ],
   "source": [
    "def facto(n):\n",
    "    nf=1\n",
    "    for i in range(1,n+1):\n",
    "        nf*=i\n",
    "    return nf\n",
    "\n",
    "def countmeal(n, affordnum) :\n",
    "    n1=n+affordnum-1\n",
    "    result=facto(n1)/(facto(n1-affordnum)*facto(affordnum)) \n",
    "    return int(result)\n",
    "\n",
    "def countdessert(n, menu) :\n",
    "    return len(menu)**n\n",
    "\n",
    "def printc(a, b, c) :\n",
    "      if type(b)==type(0) :\n",
    "            print(\"메뉴 수 : \"+str(a)+\"개, 구매할 수 있는 능력 : \"+str(b)+\"개, 경우의 수 : \"+str(c)+\"가지\")\n",
    "      else :\n",
    "            print(\"사람 수 : \"+str(a)+\"명, 구매할 수 있는 메뉴 : \"+str(len(b))+\"개, 경우의 수 : \"+str(c)+\"가지\")\n",
    "\n",
    "meal_afford = 2\n",
    "meal_number = 10 \n",
    "meal_result = countmeal(meal_number, meal_afford)\n",
    "printc(meal_number, meal_afford, meal_result)\n",
    "\n",
    "dessert_menu = (\"Americano\", \"Cafelatte\", \"Cafemoca\")\n",
    "dessert_students = 10\n",
    "dessert_result = countdessert(dessert_students, dessert_menu)\n",
    "printc(dessert_students, dessert_menu, dessert_result)"
   ]
  },
  {
   "cell_type": "code",
   "execution_count": 1,
   "metadata": {},
   "outputs": [
    {
     "name": "stdout",
     "output_type": "stream",
     "text": [
      "메뉴 수 : 10개, 구매할 수 있는 능력 : 2개, 경우의 수 : 20가지\n",
      "사람 수 : 10명, 구매할 수 있는 메뉴 : 3개, 경우의 수 : 1000가지\n"
     ]
    }
   ],
   "source": [
    "def countmeal(n, affordnum) :\n",
    "    return # 미미를 도와주자.\n",
    "\n",
    "def countdessert(n, menu) :\n",
    "    return # 미미를 도와주자.\n",
    "\n",
    "def printc(a, b, c) :\n",
    "      if type(b)==type(0) :\n",
    "            print(\"메뉴 수 : \"+str(a)+\"개, 구매할 수 있는 능력 : \"+str(b)+\"개, 경우의 수 : \"+str(c)+\"가지\")\n",
    "      else :\n",
    "            print(\"사람 수 : \"+str(a)+\"명, 구매할 수 있는 메뉴 : \"+str(len(b))+\"개, 경우의 수 : \"+str(c)+\"가지\")\n",
    "\n",
    "# main code\n",
    "meal_afford = 2\n",
    "meal_number = 10 # or any number\n",
    "meal_result = countmeal(meal_number, meal_afford)\n",
    "printc(meal_number, meal_afford, meal_result)\n",
    "\n",
    "dessert_menu = (\"Americano\", \"Cafelatte\", \"Cafemoca\")\n",
    "dessert_students = 10 # or any number\n",
    "dessert_result = countdessert(dessert_students, dessert_menu)\n",
    "printc(dessert_students, dessert_menu, dessert_result)"
   ]
  }
 ],
 "metadata": {
  "kernelspec": {
   "display_name": "Python 3",
   "language": "python",
   "name": "python3"
  },
  "language_info": {
   "codemirror_mode": {
    "name": "ipython",
    "version": 3
   },
   "file_extension": ".py",
   "mimetype": "text/x-python",
   "name": "python",
   "nbconvert_exporter": "python",
   "pygments_lexer": "ipython3",
   "version": "3.7.3"
  }
 },
 "nbformat": 4,
 "nbformat_minor": 4
}
